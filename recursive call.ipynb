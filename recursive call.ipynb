{
 "cells": [
  {
   "cell_type": "code",
   "execution_count": 1,
   "id": "32236b87-393e-4540-9ac7-61dc5cb5b8a2",
   "metadata": {},
   "outputs": [],
   "source": [
    "given T(n)=3T(n-1)+12n\n",
    "and T(0)=5\n",
    "as we do substitution as n=1 in the given equation the\n",
    "T(1)=3T(1-1)+12*1\n",
    "T(1)=3T(0)+12\n",
    "T(1)=3*5+12\n",
    "T(1)=27\n",
    "\n",
    "3now substitute n=2 in the given equation \n",
    "T(2)=3T(2-1)+12*2\n",
    "T(2)=3T(1)+24\n",
    "T(2)=3*27+24\n",
    "T(2)=105"
   ]
  },
  {
   "cell_type": "code",
   "execution_count": 2,
   "id": "4138cb11-a35b-45c6-9c6b-ce294b607f13",
   "metadata": {},
   "outputs": [
    {
     "data": {
      "text/plain": [
       "105"
      ]
     },
     "execution_count": 2,
     "metadata": {},
     "output_type": "execute_result"
    }
   ],
   "source": [
    "3*27+24"
   ]
  },
  {
   "cell_type": "code",
   "execution_count": null,
   "id": "ff2718cf-2ddd-4cc1-be42-84d338629b65",
   "metadata": {},
   "outputs": [],
   "source": [
    "2a) the given equation is \n",
    "T(n)=T(n-1)+c ----(1)\n",
    "now substitute the value of n as n-1 in the equation 1\n",
    "T(n-1)=T((n-1)-1)+c\n",
    "T(n-1)=T(n-2)+c\n",
    "T(n)=T(n-2)+2c ---(2)\n",
    "T(n)=T(n-3)+3c ----(3)\n",
    ".\n",
    ".\n",
    ". upto k time\n",
    "T(n)=T(n-k)+kc ---(k)\n",
    "now from the base case\n",
    "n-k=1\n",
    "k=n-1\n",
    "now substitute the value of k in equation k\n",
    "T(n)=T(n-(n-1))+(n-1)c\n",
    "T(n)=T(1)+(n-1)c\n",
    "T(n)=1+(n-1)c\n",
    "for the above equation the time complexity is O(n)"
   ]
  },
  {
   "cell_type": "code",
   "execution_count": null,
   "id": "5f6de8c3-9691-4eef-820f-83d87cfbd009",
   "metadata": {},
   "outputs": [],
   "source": [
    "2b) the given equation is \n",
    "T(n)=2T(n/2)+n ----(1)\n",
    "now substitute the value of n as n-1 in the equation 1\n",
    "T(n/2)=2T((n/2)/2)+(n/2)\n",
    "T(n/2)=2T(n/2^2)+(n/2)\n",
    "T(n)=2T(n/2^2)+(n/2)+n---(2)\n",
    "T(n)=2T(n/2^3)+(n/2^2)+(n/2)+n ----(3)\n",
    ".\n",
    ".\n",
    ". upto k time\n",
    "T(n)=2T(n/2^k)+(n/2^(k-1)+-----+(n/2)+n ---(k)\n",
    "now from the base case\n",
    "n/2^k=1\n",
    "k=logn\n",
    "     2\n",
    "now substitute the value of k in equation k\n",
    "T(n)=2T(n/( logn   +(n/ logn-1 +-----+n/2+n\n",
    "            2   2 )    2   2)\n",
    "T(n)=2T(1)+n/2+n/2^(-1)+---+n/2+n\n",
    "this is in g.p\n",
    "i.e r=n/2^k/n/2^k-1 =2\n",
    "as r>1 the s= a(r^n-1)/(r-1)\n",
    "then s=2(2^n-1)/(2-1)\n",
    "    s=2^(n+1)-2\n",
    "for the above equation the time complexity is O(2^(n-1))"
   ]
  },
  {
   "cell_type": "code",
   "execution_count": null,
   "id": "c9f0a24e-fb55-4957-be03-79530cf4cd7d",
   "metadata": {},
   "outputs": [],
   "source": [
    "2c) the given equation is \n",
    "T(n)=2T(n/2)+c ----(1)\n",
    "now substitute the value of n as n-1 in the equation 1\n",
    "T(n/2)=2T((n/2)/2)+c\n",
    "T(n/2)=2T(n/2^2)+c\n",
    "T(n)=2T(n/2^2)+2c---(2)\n",
    "T(n)=2T(n/2^3)+3c ----(3)\n",
    ".\n",
    ".\n",
    ". upto k time\n",
    "T(n)=2T(n/2^k)+kc ---(k)\n",
    "now from the base case\n",
    "n/2^k=1\n",
    "k=logn\n",
    "     2\n",
    "now substitute the value of k in equation k\n",
    "T(n)=2T(n/( logn   +logn c\n",
    "            2   2 )    2\n",
    "T(n)=2T(1)+logn.c\n",
    "              2\n",
    "for the above equation the time complexity is O(logn )\n",
    "                                                   2"
   ]
  },
  {
   "cell_type": "code",
   "execution_count": null,
   "id": "b7473935-0233-4e81-a9eb-60526b5462af",
   "metadata": {},
   "outputs": [],
   "source": [
    "3a) given is T(n)=2T(n-1)+1\n",
    "i.e,T(n)=1=2^0\n",
    "T(n)=T(n-1)+T(n-1)+1+1=2^1\n",
    "T(n-1)+T(n-1)+2^1=2T(n-2)+2T(n-2)+1+1=2^2\n",
    "2T(n-2)+2T(n-2)+2^2=2T(n-3)+2T(n-3)+1+1+1+1=2^3\n",
    ".\n",
    ".\n",
    ".\n",
    "2T(n-k)+2T(n-k)+2T(n-k)+...+2T(n-k)+1+1+1+..+1=2^K\n",
    "i.e,n-k=0\n",
    "n=k\n",
    "time complexity=2^0+2^1+2^2+2^3+....+2^k\n",
    "as n=k,t.c=2^0+2^1+2^2+2^3+....+2^n\n",
    "this is G.P\n",
    "r=2\n",
    "sm=a(r^n-1)/(r-1)\n",
    "sm=1(2^n-1)/(2-1)\n",
    "sm=(2^n-1)\n",
    "time complexity=O(2^n)"
   ]
  },
  {
   "cell_type": "code",
   "execution_count": null,
   "id": "254d8f10-7b0a-42f8-b64e-02a2ce49cff2",
   "metadata": {},
   "outputs": [],
   "source": [
    "3a) given is T(n)=2T(n/2)+n\n",
    "i.e,T(n)=1=2^0\n",
    "T(n)=T(n/2)+T(n/2)=1\n",
    "T(n/2)+T(n/2)=2T(n/2^2)+2T(n/2^2)\n",
    "2T(n/2^2)+2T(n/2^2)=2T(n/2^3)+2T(n/2^3)\n",
    ".\n",
    ".\n",
    ".\n",
    "2T(n/2^k)+2T(n/2^k)+2T(n/2^k)+...+2T(n2^k)\n",
    "i.e,n/2^k=1\n",
    "n=2^k\n",
    "logn=k\n",
    "time complexity=2^0+2^1+2^2+2^3+....+2^k\n",
    "as n=k,t.c=2^0+2^1+2^2+2^3+....+2^n\n",
    "this is G.P\n",
    "r=2\n",
    "sm=a(r^n-1)/(r-1)\n",
    "sm=1(2^n-1)/(2-1)\n",
    "sm=(2^n-1)\n",
    "time complexity=O(2^n)"
   ]
  }
 ],
 "metadata": {
  "kernelspec": {
   "display_name": "Python 3 (ipykernel)",
   "language": "python",
   "name": "python3"
  },
  "language_info": {
   "codemirror_mode": {
    "name": "ipython",
    "version": 3
   },
   "file_extension": ".py",
   "mimetype": "text/x-python",
   "name": "python",
   "nbconvert_exporter": "python",
   "pygments_lexer": "ipython3",
   "version": "3.10.8"
  }
 },
 "nbformat": 4,
 "nbformat_minor": 5
}
